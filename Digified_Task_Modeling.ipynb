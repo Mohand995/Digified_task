{
  "nbformat": 4,
  "nbformat_minor": 0,
  "metadata": {
    "colab": {
      "provenance": [],
      "authorship_tag": "ABX9TyN7kzYbQIQXBEt2+Tr3ftbb",
      "include_colab_link": true
    },
    "kernelspec": {
      "name": "python3",
      "display_name": "Python 3"
    },
    "language_info": {
      "name": "python"
    },
    "accelerator": "GPU",
    "gpuClass": "standard"
  },
  "cells": [
    {
      "cell_type": "markdown",
      "metadata": {
        "id": "view-in-github",
        "colab_type": "text"
      },
      "source": [
        "<a href=\"https://colab.research.google.com/github/Mohand995/Dified_task/blob/main/Digified_Task_Modeling.ipynb\" target=\"_parent\"><img src=\"https://colab.research.google.com/assets/colab-badge.svg\" alt=\"Open In Colab\"/></a>"
      ]
    },
    {
      "cell_type": "code",
      "execution_count": 1,
      "metadata": {
        "colab": {
          "base_uri": "https://localhost:8080/"
        },
        "id": "K1MqXrmQXL4j",
        "outputId": "93347a97-9302-4e58-a341-4f0bbedbae6c"
      },
      "outputs": [
        {
          "output_type": "stream",
          "name": "stdout",
          "text": [
            "Looking in indexes: https://pypi.org/simple, https://us-python.pkg.dev/colab-wheels/public/simple/\n",
            "Requirement already satisfied: ar_wordcloud in /usr/local/lib/python3.8/dist-packages (0.0.4)\n",
            "Requirement already satisfied: python-bidi>=0.4.2 in /usr/local/lib/python3.8/dist-packages (from ar_wordcloud) (0.4.2)\n",
            "Requirement already satisfied: arabic_reshaper>=2.0.14 in /usr/local/lib/python3.8/dist-packages (from ar_wordcloud) (2.1.4)\n",
            "Requirement already satisfied: requests in /usr/local/lib/python3.8/dist-packages (from ar_wordcloud) (2.23.0)\n",
            "Requirement already satisfied: wordcloud>=1.7.0 in /usr/local/lib/python3.8/dist-packages (from ar_wordcloud) (1.8.2.2)\n",
            "Requirement already satisfied: future in /usr/local/lib/python3.8/dist-packages (from arabic_reshaper>=2.0.14->ar_wordcloud) (0.16.0)\n",
            "Requirement already satisfied: six in /usr/local/lib/python3.8/dist-packages (from python-bidi>=0.4.2->ar_wordcloud) (1.15.0)\n",
            "Requirement already satisfied: numpy>=1.6.1 in /usr/local/lib/python3.8/dist-packages (from wordcloud>=1.7.0->ar_wordcloud) (1.21.6)\n",
            "Requirement already satisfied: matplotlib in /usr/local/lib/python3.8/dist-packages (from wordcloud>=1.7.0->ar_wordcloud) (3.2.2)\n",
            "Requirement already satisfied: pillow in /usr/local/lib/python3.8/dist-packages (from wordcloud>=1.7.0->ar_wordcloud) (7.1.2)\n",
            "Requirement already satisfied: python-dateutil>=2.1 in /usr/local/lib/python3.8/dist-packages (from matplotlib->wordcloud>=1.7.0->ar_wordcloud) (2.8.2)\n",
            "Requirement already satisfied: cycler>=0.10 in /usr/local/lib/python3.8/dist-packages (from matplotlib->wordcloud>=1.7.0->ar_wordcloud) (0.11.0)\n",
            "Requirement already satisfied: pyparsing!=2.0.4,!=2.1.2,!=2.1.6,>=2.0.1 in /usr/local/lib/python3.8/dist-packages (from matplotlib->wordcloud>=1.7.0->ar_wordcloud) (3.0.9)\n",
            "Requirement already satisfied: kiwisolver>=1.0.1 in /usr/local/lib/python3.8/dist-packages (from matplotlib->wordcloud>=1.7.0->ar_wordcloud) (1.4.4)\n",
            "Requirement already satisfied: idna<3,>=2.5 in /usr/local/lib/python3.8/dist-packages (from requests->ar_wordcloud) (2.10)\n",
            "Requirement already satisfied: chardet<4,>=3.0.2 in /usr/local/lib/python3.8/dist-packages (from requests->ar_wordcloud) (3.0.4)\n",
            "Requirement already satisfied: certifi>=2017.4.17 in /usr/local/lib/python3.8/dist-packages (from requests->ar_wordcloud) (2022.9.24)\n",
            "Requirement already satisfied: urllib3!=1.25.0,!=1.25.1,<1.26,>=1.21.1 in /usr/local/lib/python3.8/dist-packages (from requests->ar_wordcloud) (1.24.3)\n"
          ]
        }
      ],
      "source": [
        "pip install  ar_wordcloud"
      ]
    },
    {
      "cell_type": "code",
      "source": [
        "import pandas as pd\n",
        "import numpy as np\n",
        "import matplotlib.pyplot as plt\n",
        "import tensorflow as tf\n",
        "import keras\n",
        "import os\n",
        "from tensorflow.keras.optimizers import RMSprop\n",
        "from keras.wrappers.scikit_learn import KerasClassifier\n",
        "from sklearn.feature_extraction.text import CountVectorizer,TfidfVectorizer \n",
        "from tqdm.auto import tqdm\n",
        "import re\n",
        "from keras import layers,models\n",
        "import pickle\n",
        "import nltk\n",
        "from sklearn.model_selection import train_test_split\n",
        "nltk.download('punkt')\n",
        "from sklearn.linear_model import *\n",
        "from sklearn.ensemble import *\n",
        "import seaborn as sns\n",
        "from sklearn.pipeline import make_pipeline\n",
        "from sklearn.svm import SVC\n",
        "from sklearn.metrics import accuracy_score,confusion_matrix,ConfusionMatrixDisplay,roc_curve,auc,RocCurveDisplay,classification_report\n",
        "from ar_wordcloud import ArabicWordCloud\n",
        "awc = ArabicWordCloud(background_color=\"white\")"
      ],
      "metadata": {
        "colab": {
          "base_uri": "https://localhost:8080/"
        },
        "id": "66Q86LqgKMxk",
        "outputId": "dac736c2-7b2b-4817-9aee-20919555f96b"
      },
      "execution_count": 2,
      "outputs": [
        {
          "output_type": "stream",
          "name": "stderr",
          "text": [
            "[nltk_data] Downloading package punkt to /root/nltk_data...\n",
            "[nltk_data]   Package punkt is already up-to-date!\n"
          ]
        }
      ]
    },
    {
      "cell_type": "markdown",
      "source": [
        "**Read_Data**"
      ],
      "metadata": {
        "id": "vA8lwm0WXtBW"
      }
    },
    {
      "cell_type": "code",
      "source": [
        "Data=pd.read_csv(\"/content/Names_Verification_ds_.csv\")"
      ],
      "metadata": {
        "id": "hqbQ3GY_Xvt1"
      },
      "execution_count": 3,
      "outputs": []
    },
    {
      "cell_type": "code",
      "source": [
        "Data=Data[['names','labels']]"
      ],
      "metadata": {
        "id": "WAigI5Q8Y-dz"
      },
      "execution_count": 4,
      "outputs": []
    },
    {
      "cell_type": "code",
      "source": [
        "Data.sample(20)"
      ],
      "metadata": {
        "colab": {
          "base_uri": "https://localhost:8080/",
          "height": 677
        },
        "id": "62ChlP_eY_ns",
        "outputId": "14a148a7-d801-4f68-d8f8-ccac726d15ad"
      },
      "execution_count": 5,
      "outputs": [
        {
          "output_type": "execute_result",
          "data": {
            "text/plain": [
              "                       names  labels\n",
              "150284    رةكشي مكير بدلاهلع       0\n",
              "109811        رظين مهفي& كرب       0\n",
              "160312       ةكبار ترفأ لبأغ       0\n",
              "183835      اررأس انور باوت@       0\n",
              "145915     رقاط# بطاح@ ثكمأ6       0\n",
              "111758       اجورم لهسي سأير       0\n",
              "182600      ماهجدة حماط2 نعو       0\n",
              "153169         مسة امحل تيق#       0\n",
              "52487        سيلين حارب شيبة       1\n",
              "172799        دهوع قبط* دعوس       0\n",
              "17643         ستار نعمت فياض       1\n",
              "61722       دانيا عدوان حجاب       1\n",
              "37492   ولاء الدين نجدت معمر       1\n",
              "131102     يأبو منضرا بتةعا*       0\n",
              "3752          باسط سلمة هائل       1\n",
              "140220  يحعلماكدب& دالخ@ رضم       0\n",
              "128894     دممح بكر أوب زيعز       0\n",
              "156034      هبوة أغلب& ةحلنظ       0\n",
              "57487       خزامى رائد مرتضى       1\n",
              "181944    جمةيب رنشوا@ زريكا       0"
            ],
            "text/html": [
              "\n",
              "  <div id=\"df-71e0e154-16bb-4d28-a9e9-4d7e90e4d0ea\">\n",
              "    <div class=\"colab-df-container\">\n",
              "      <div>\n",
              "<style scoped>\n",
              "    .dataframe tbody tr th:only-of-type {\n",
              "        vertical-align: middle;\n",
              "    }\n",
              "\n",
              "    .dataframe tbody tr th {\n",
              "        vertical-align: top;\n",
              "    }\n",
              "\n",
              "    .dataframe thead th {\n",
              "        text-align: right;\n",
              "    }\n",
              "</style>\n",
              "<table border=\"1\" class=\"dataframe\">\n",
              "  <thead>\n",
              "    <tr style=\"text-align: right;\">\n",
              "      <th></th>\n",
              "      <th>names</th>\n",
              "      <th>labels</th>\n",
              "    </tr>\n",
              "  </thead>\n",
              "  <tbody>\n",
              "    <tr>\n",
              "      <th>150284</th>\n",
              "      <td>رةكشي مكير بدلاهلع</td>\n",
              "      <td>0</td>\n",
              "    </tr>\n",
              "    <tr>\n",
              "      <th>109811</th>\n",
              "      <td>رظين مهفي&amp; كرب</td>\n",
              "      <td>0</td>\n",
              "    </tr>\n",
              "    <tr>\n",
              "      <th>160312</th>\n",
              "      <td>ةكبار ترفأ لبأغ</td>\n",
              "      <td>0</td>\n",
              "    </tr>\n",
              "    <tr>\n",
              "      <th>183835</th>\n",
              "      <td>اررأس انور باوت@</td>\n",
              "      <td>0</td>\n",
              "    </tr>\n",
              "    <tr>\n",
              "      <th>145915</th>\n",
              "      <td>رقاط# بطاح@ ثكمأ6</td>\n",
              "      <td>0</td>\n",
              "    </tr>\n",
              "    <tr>\n",
              "      <th>111758</th>\n",
              "      <td>اجورم لهسي سأير</td>\n",
              "      <td>0</td>\n",
              "    </tr>\n",
              "    <tr>\n",
              "      <th>182600</th>\n",
              "      <td>ماهجدة حماط2 نعو</td>\n",
              "      <td>0</td>\n",
              "    </tr>\n",
              "    <tr>\n",
              "      <th>153169</th>\n",
              "      <td>مسة امحل تيق#</td>\n",
              "      <td>0</td>\n",
              "    </tr>\n",
              "    <tr>\n",
              "      <th>52487</th>\n",
              "      <td>سيلين حارب شيبة</td>\n",
              "      <td>1</td>\n",
              "    </tr>\n",
              "    <tr>\n",
              "      <th>172799</th>\n",
              "      <td>دهوع قبط* دعوس</td>\n",
              "      <td>0</td>\n",
              "    </tr>\n",
              "    <tr>\n",
              "      <th>17643</th>\n",
              "      <td>ستار نعمت فياض</td>\n",
              "      <td>1</td>\n",
              "    </tr>\n",
              "    <tr>\n",
              "      <th>61722</th>\n",
              "      <td>دانيا عدوان حجاب</td>\n",
              "      <td>1</td>\n",
              "    </tr>\n",
              "    <tr>\n",
              "      <th>37492</th>\n",
              "      <td>ولاء الدين نجدت معمر</td>\n",
              "      <td>1</td>\n",
              "    </tr>\n",
              "    <tr>\n",
              "      <th>131102</th>\n",
              "      <td>يأبو منضرا بتةعا*</td>\n",
              "      <td>0</td>\n",
              "    </tr>\n",
              "    <tr>\n",
              "      <th>3752</th>\n",
              "      <td>باسط سلمة هائل</td>\n",
              "      <td>1</td>\n",
              "    </tr>\n",
              "    <tr>\n",
              "      <th>140220</th>\n",
              "      <td>يحعلماكدب&amp; دالخ@ رضم</td>\n",
              "      <td>0</td>\n",
              "    </tr>\n",
              "    <tr>\n",
              "      <th>128894</th>\n",
              "      <td>دممح بكر أوب زيعز</td>\n",
              "      <td>0</td>\n",
              "    </tr>\n",
              "    <tr>\n",
              "      <th>156034</th>\n",
              "      <td>هبوة أغلب&amp; ةحلنظ</td>\n",
              "      <td>0</td>\n",
              "    </tr>\n",
              "    <tr>\n",
              "      <th>57487</th>\n",
              "      <td>خزامى رائد مرتضى</td>\n",
              "      <td>1</td>\n",
              "    </tr>\n",
              "    <tr>\n",
              "      <th>181944</th>\n",
              "      <td>جمةيب رنشوا@ زريكا</td>\n",
              "      <td>0</td>\n",
              "    </tr>\n",
              "  </tbody>\n",
              "</table>\n",
              "</div>\n",
              "      <button class=\"colab-df-convert\" onclick=\"convertToInteractive('df-71e0e154-16bb-4d28-a9e9-4d7e90e4d0ea')\"\n",
              "              title=\"Convert this dataframe to an interactive table.\"\n",
              "              style=\"display:none;\">\n",
              "        \n",
              "  <svg xmlns=\"http://www.w3.org/2000/svg\" height=\"24px\"viewBox=\"0 0 24 24\"\n",
              "       width=\"24px\">\n",
              "    <path d=\"M0 0h24v24H0V0z\" fill=\"none\"/>\n",
              "    <path d=\"M18.56 5.44l.94 2.06.94-2.06 2.06-.94-2.06-.94-.94-2.06-.94 2.06-2.06.94zm-11 1L8.5 8.5l.94-2.06 2.06-.94-2.06-.94L8.5 2.5l-.94 2.06-2.06.94zm10 10l.94 2.06.94-2.06 2.06-.94-2.06-.94-.94-2.06-.94 2.06-2.06.94z\"/><path d=\"M17.41 7.96l-1.37-1.37c-.4-.4-.92-.59-1.43-.59-.52 0-1.04.2-1.43.59L10.3 9.45l-7.72 7.72c-.78.78-.78 2.05 0 2.83L4 21.41c.39.39.9.59 1.41.59.51 0 1.02-.2 1.41-.59l7.78-7.78 2.81-2.81c.8-.78.8-2.07 0-2.86zM5.41 20L4 18.59l7.72-7.72 1.47 1.35L5.41 20z\"/>\n",
              "  </svg>\n",
              "      </button>\n",
              "      \n",
              "  <style>\n",
              "    .colab-df-container {\n",
              "      display:flex;\n",
              "      flex-wrap:wrap;\n",
              "      gap: 12px;\n",
              "    }\n",
              "\n",
              "    .colab-df-convert {\n",
              "      background-color: #E8F0FE;\n",
              "      border: none;\n",
              "      border-radius: 50%;\n",
              "      cursor: pointer;\n",
              "      display: none;\n",
              "      fill: #1967D2;\n",
              "      height: 32px;\n",
              "      padding: 0 0 0 0;\n",
              "      width: 32px;\n",
              "    }\n",
              "\n",
              "    .colab-df-convert:hover {\n",
              "      background-color: #E2EBFA;\n",
              "      box-shadow: 0px 1px 2px rgba(60, 64, 67, 0.3), 0px 1px 3px 1px rgba(60, 64, 67, 0.15);\n",
              "      fill: #174EA6;\n",
              "    }\n",
              "\n",
              "    [theme=dark] .colab-df-convert {\n",
              "      background-color: #3B4455;\n",
              "      fill: #D2E3FC;\n",
              "    }\n",
              "\n",
              "    [theme=dark] .colab-df-convert:hover {\n",
              "      background-color: #434B5C;\n",
              "      box-shadow: 0px 1px 3px 1px rgba(0, 0, 0, 0.15);\n",
              "      filter: drop-shadow(0px 1px 2px rgba(0, 0, 0, 0.3));\n",
              "      fill: #FFFFFF;\n",
              "    }\n",
              "  </style>\n",
              "\n",
              "      <script>\n",
              "        const buttonEl =\n",
              "          document.querySelector('#df-71e0e154-16bb-4d28-a9e9-4d7e90e4d0ea button.colab-df-convert');\n",
              "        buttonEl.style.display =\n",
              "          google.colab.kernel.accessAllowed ? 'block' : 'none';\n",
              "\n",
              "        async function convertToInteractive(key) {\n",
              "          const element = document.querySelector('#df-71e0e154-16bb-4d28-a9e9-4d7e90e4d0ea');\n",
              "          const dataTable =\n",
              "            await google.colab.kernel.invokeFunction('convertToInteractive',\n",
              "                                                     [key], {});\n",
              "          if (!dataTable) return;\n",
              "\n",
              "          const docLinkHtml = 'Like what you see? Visit the ' +\n",
              "            '<a target=\"_blank\" href=https://colab.research.google.com/notebooks/data_table.ipynb>data table notebook</a>'\n",
              "            + ' to learn more about interactive tables.';\n",
              "          element.innerHTML = '';\n",
              "          dataTable['output_type'] = 'display_data';\n",
              "          await google.colab.output.renderOutput(dataTable, element);\n",
              "          const docLink = document.createElement('div');\n",
              "          docLink.innerHTML = docLinkHtml;\n",
              "          element.appendChild(docLink);\n",
              "        }\n",
              "      </script>\n",
              "    </div>\n",
              "  </div>\n",
              "  "
            ]
          },
          "metadata": {},
          "execution_count": 5
        }
      ]
    },
    {
      "cell_type": "markdown",
      "source": [
        "**EDA**"
      ],
      "metadata": {
        "id": "pEhUXRO3bvqM"
      }
    },
    {
      "cell_type": "code",
      "source": [
        "Data.labels.value_counts()"
      ],
      "metadata": {
        "colab": {
          "base_uri": "https://localhost:8080/"
        },
        "id": "uMsfduqcbxgd",
        "outputId": "cadb5101-5b57-439c-ae07-53a346585da8"
      },
      "execution_count": 6,
      "outputs": [
        {
          "output_type": "execute_result",
          "data": {
            "text/plain": [
              "1    100000\n",
              "0    100000\n",
              "Name: labels, dtype: int64"
            ]
          },
          "metadata": {},
          "execution_count": 6
        }
      ]
    },
    {
      "cell_type": "code",
      "source": [
        "Data.isna().any()"
      ],
      "metadata": {
        "colab": {
          "base_uri": "https://localhost:8080/"
        },
        "id": "w_NW_tEub7SC",
        "outputId": "aa962642-b63b-43e7-c696-3e10c6010636"
      },
      "execution_count": 7,
      "outputs": [
        {
          "output_type": "execute_result",
          "data": {
            "text/plain": [
              "names     False\n",
              "labels    False\n",
              "dtype: bool"
            ]
          },
          "metadata": {},
          "execution_count": 7
        }
      ]
    },
    {
      "cell_type": "code",
      "source": [
        "Data.duplicated().any()"
      ],
      "metadata": {
        "colab": {
          "base_uri": "https://localhost:8080/"
        },
        "id": "3iDTGeukcCyY",
        "outputId": "6e339d05-4846-4d1d-c017-9fca00d1e713"
      },
      "execution_count": 8,
      "outputs": [
        {
          "output_type": "execute_result",
          "data": {
            "text/plain": [
              "True"
            ]
          },
          "metadata": {},
          "execution_count": 8
        }
      ]
    },
    {
      "cell_type": "code",
      "source": [
        "Data.drop_duplicates(inplace=True)"
      ],
      "metadata": {
        "id": "sqNaEER4rfvY"
      },
      "execution_count": 9,
      "outputs": []
    },
    {
      "cell_type": "code",
      "source": [
        "Data.labels.value_counts()"
      ],
      "metadata": {
        "colab": {
          "base_uri": "https://localhost:8080/"
        },
        "id": "SIhud-8srpTj",
        "outputId": "39d76ca4-18c7-4fe2-d5c9-319e40caaad7"
      },
      "execution_count": 10,
      "outputs": [
        {
          "output_type": "execute_result",
          "data": {
            "text/plain": [
              "0    100000\n",
              "1     99995\n",
              "Name: labels, dtype: int64"
            ]
          },
          "metadata": {},
          "execution_count": 10
        }
      ]
    },
    {
      "cell_type": "code",
      "source": [
        "sns.countplot(Data.labels) ; \n",
        "plt.xlabel(\"label\")\n",
        "plt.ylabel(\"count\")\n",
        "plt.title(\"count for each label\")"
      ],
      "metadata": {
        "colab": {
          "base_uri": "https://localhost:8080/",
          "height": 367
        },
        "id": "BVO_n0mycF7k",
        "outputId": "5f9a5361-aba4-4d42-b17b-d3b6ac8231ac"
      },
      "execution_count": 11,
      "outputs": [
        {
          "output_type": "stream",
          "name": "stderr",
          "text": [
            "/usr/local/lib/python3.8/dist-packages/seaborn/_decorators.py:36: FutureWarning: Pass the following variable as a keyword arg: x. From version 0.12, the only valid positional argument will be `data`, and passing other arguments without an explicit keyword will result in an error or misinterpretation.\n",
            "  warnings.warn(\n"
          ]
        },
        {
          "output_type": "execute_result",
          "data": {
            "text/plain": [
              "Text(0.5, 1.0, 'count for each label')"
            ]
          },
          "metadata": {},
          "execution_count": 11
        },
        {
          "output_type": "display_data",
          "data": {
            "text/plain": [
              "<Figure size 432x288 with 1 Axes>"
            ],
            "image/png": "[encoded data removed]"
          },
          "metadata": {
            "needs_background": "light"
          }
        }
      ]
    },
    {
      "cell_type": "code",
      "source": [
        "names=Data.names.tolist()\n",
        "str_names=' '.join(names)"
      ],
      "metadata": {
        "id": "7ORvGp3K_nQ-"
      },
      "execution_count": 12,
      "outputs": []
    },
    {
      "cell_type": "code",
      "source": [
        "wc = awc.from_text(str_names)"
      ],
      "metadata": {
        "id": "67kN2yvGApC7"
      },
      "execution_count": 13,
      "outputs": []
    },
    {
      "cell_type": "code",
      "source": [
        "plt.imshow(wc)\n",
        "plt.title(\"word_colud_of_names\")"
      ],
      "metadata": {
        "colab": {
          "base_uri": "https://localhost:8080/",
          "height": 248
        },
        "id": "fRo7Ri9_BJIY",
        "outputId": "ac83177d-929f-49a6-8f9b-8f2a2d8800ac"
      },
      "execution_count": 14,
      "outputs": [
        {
          "output_type": "execute_result",
          "data": {
            "text/plain": [
              "Text(0.5, 1.0, 'word_colud_of_names')"
            ]
          },
          "metadata": {},
          "execution_count": 14
        },
        {
          "output_type": "display_data",
          "data": {
            "text/plain": [
              "<Figure size 432x288 with 1 Axes>"
            ],
            "image/png": "[encoded data removed]"
          },
          "metadata": {
            "needs_background": "light"
          }
        }
      ]
    },
    {
      "cell_type": "markdown",
      "source": [
        "**Feature_Extraction + Modeling**"
      ],
      "metadata": {
        "id": "XSYMvesfcdyG"
      }
    },
    {
      "cell_type": "markdown",
      "source": [
        "let's start with the most naive and simple baseline modeling "
      ],
      "metadata": {
        "id": "ALtfuxtZr1tj"
      }
    },
    {
      "cell_type": "markdown",
      "source": [
        "**Split_Data**\n"
      ],
      "metadata": {
        "id": "EQqpduYYhb_-"
      }
    },
    {
      "cell_type": "code",
      "source": [
        "target=Data['labels']\n",
        "x_train_, x_test_ ,y_train_ ,y_test_ = train_test_split(Data['names'],target,test_size=0.2,stratify=target,random_state=42)"
      ],
      "metadata": {
        "id": "LPk1cWlXjTCk"
      },
      "execution_count": 15,
      "outputs": []
    },
    {
      "cell_type": "code",
      "source": [
        "x_train=x_train_[:50000] \n",
        "y_train=y_train_[:50000]\n",
        "x_test=x_test_[:10000]\n",
        "y_test=y_test_[:10000]"
      ],
      "metadata": {
        "id": "V887RrhwZStJ"
      },
      "execution_count": 16,
      "outputs": []
    },
    {
      "cell_type": "markdown",
      "source": [
        "**TFIDF+Random_Forrest**"
      ],
      "metadata": {
        "id": "USlxlOpdvs9C"
      }
    },
    {
      "cell_type": "code",
      "source": [
        "tfidf_vect=TfidfVectorizer(max_features=10000,ngram_range=(1,3))"
      ],
      "metadata": {
        "id": "gciumym1lw6t"
      },
      "execution_count": 17,
      "outputs": []
    },
    {
      "cell_type": "code",
      "source": [
        "clf2=RandomForestClassifier()\n",
        "pipe2=make_pipeline(tfidf_vect,clf2)\n",
        "pipe2.fit(x_train,y_train)"
      ],
      "metadata": {
        "colab": {
          "base_uri": "https://localhost:8080/"
        },
        "id": "ixqIJvtZtv-H",
        "outputId": "1293ba20-e3fc-45ac-a1b4-147cf26b12fd"
      },
      "execution_count": 18,
      "outputs": [
        {
          "output_type": "execute_result",
          "data": {
            "text/plain": [
              "Pipeline(steps=[('tfidfvectorizer',\n",
              "                 TfidfVectorizer(max_features=10000, ngram_range=(1, 3))),\n",
              "                ('randomforestclassifier', RandomForestClassifier())])"
            ]
          },
          "metadata": {},
          "execution_count": 18
        }
      ]
    },
    {
      "cell_type": "code",
      "source": [
        "pred=pipe2.predict(x_test)"
      ],
      "metadata": {
        "id": "yBwabSixt7Cx"
      },
      "execution_count": 19,
      "outputs": []
    },
    {
      "cell_type": "code",
      "source": [
        "accuracy_score(y_test,pred)"
      ],
      "metadata": {
        "colab": {
          "base_uri": "https://localhost:8080/"
        },
        "id": "ESmeMRKy7NGm",
        "outputId": "e8c9bdb7-369e-4352-8170-d3b6922fde06"
      },
      "execution_count": 20,
      "outputs": [
        {
          "output_type": "execute_result",
          "data": {
            "text/plain": [
              "0.9807"
            ]
          },
          "metadata": {},
          "execution_count": 20
        }
      ]
    },
    {
      "cell_type": "code",
      "source": [
        "print(classification_report(y_test,pred))"
      ],
      "metadata": {
        "colab": {
          "base_uri": "https://localhost:8080/"
        },
        "id": "v8DD6KDM8BXy",
        "outputId": "e09cb92f-ec3e-478b-aa59-90337da31c18"
      },
      "execution_count": 21,
      "outputs": [
        {
          "output_type": "stream",
          "name": "stdout",
          "text": [
            "              precision    recall  f1-score   support\n",
            "\n",
            "           0       1.00      0.96      0.98      4930\n",
            "           1       0.96      1.00      0.98      5070\n",
            "\n",
            "    accuracy                           0.98     10000\n",
            "   macro avg       0.98      0.98      0.98     10000\n",
            "weighted avg       0.98      0.98      0.98     10000\n",
            "\n"
          ]
        }
      ]
    },
    {
      "cell_type": "code",
      "source": [
        "len(pred)"
      ],
      "metadata": {
        "colab": {
          "base_uri": "https://localhost:8080/"
        },
        "id": "8cKHiajdEo0W",
        "outputId": "07cf0b5b-6526-472d-ad9f-39e3ee620630"
      },
      "execution_count": 22,
      "outputs": [
        {
          "output_type": "execute_result",
          "data": {
            "text/plain": [
              "10000"
            ]
          },
          "metadata": {},
          "execution_count": 22
        }
      ]
    },
    {
      "cell_type": "code",
      "source": [
        "cm = confusion_matrix(y_test, pred, labels=pipe2.classes_)\n",
        "disp = ConfusionMatrixDisplay(confusion_matrix=cm,\n",
        "                              display_labels=pipe2.classes_)\n",
        "disp.plot()\n",
        "plt.show()"
      ],
      "metadata": {
        "colab": {
          "base_uri": "https://localhost:8080/",
          "height": 281
        },
        "id": "YfW7Q7G_EPcd",
        "outputId": "c10a5334-310a-44ad-989f-0a047bb7c5af"
      },
      "execution_count": 23,
      "outputs": [
        {
          "output_type": "display_data",
          "data": {
            "text/plain": [
              "<Figure size 432x288 with 2 Axes>"
            ],
            "image/png": "[encoded data removed]"
          },
          "metadata": {
            "needs_background": "light"
          }
        }
      ]
    },
    {
      "cell_type": "markdown",
      "source": [
        "**Run some Sanity Checks**"
      ],
      "metadata": {
        "id": "DuvQiuV29dsN"
      }
    },
    {
      "cell_type": "code",
      "source": [
        "def Test_Model(model):\n",
        "  decode_preds={0:\"Fake\",1:\"Correct\"}\n",
        "  random_sample=x_test.sample(1,ignore_index=True)[0]\n",
        "  prediction=model.predict(np.array([random_sample]))\n",
        "  print(\"the name is {}\".format(random_sample))\n",
        "  print(\"Model classify it as  {}\".format(decode_preds[prediction[0]]))"
      ],
      "metadata": {
        "id": "3VLEeGbs9kgF"
      },
      "execution_count": 24,
      "outputs": []
    },
    {
      "cell_type": "code",
      "source": [
        "Test_Model(pipe2)"
      ],
      "metadata": {
        "colab": {
          "base_uri": "https://localhost:8080/"
        },
        "id": "L0t4zDWbGMeB",
        "outputId": "d27752c5-4c6c-4209-b22e-0baea6c32a6e"
      },
      "execution_count": 25,
      "outputs": [
        {
          "output_type": "stream",
          "name": "stdout",
          "text": [
            "the name is يمعن بيغل2 عكاةش\n",
            "Model classify it as  Fake\n"
          ]
        }
      ]
    },
    {
      "cell_type": "code",
      "source": [
        "name=\"باسمم وحةد السد”\"\n",
        "point=np.array([name])\n",
        "pipe2.predict(point)[0]"
      ],
      "metadata": {
        "colab": {
          "base_uri": "https://localhost:8080/"
        },
        "id": "q0Xb7Lel8g4Z",
        "outputId": "7f780e71-50ae-4f6c-936e-4e08972a41ee"
      },
      "execution_count": 96,
      "outputs": [
        {
          "output_type": "execute_result",
          "data": {
            "text/plain": [
              "0"
            ]
          },
          "metadata": {},
          "execution_count": 96
        }
      ]
    },
    {
      "cell_type": "code",
      "source": [
        "name=\"ياسر محمد محمود\"\n",
        "point=np.array([name])\n",
        "pipe2.predict(point)[0]"
      ],
      "metadata": {
        "colab": {
          "base_uri": "https://localhost:8080/"
        },
        "id": "5cXjnzsY9FBX",
        "outputId": "ad0b49a9-b2ff-4c51-f335-f291543eac30"
      },
      "execution_count": 99,
      "outputs": [
        {
          "output_type": "execute_result",
          "data": {
            "text/plain": [
              "1"
            ]
          },
          "metadata": {},
          "execution_count": 99
        }
      ]
    },
    {
      "cell_type": "code",
      "source": [
        "pickle.dump(pipe2,open(\"Random_forrest_pipeline_\",'wb'))"
      ],
      "metadata": {
        "id": "t0trf0yQLDSB"
      },
      "execution_count": 28,
      "outputs": []
    },
    {
      "cell_type": "markdown",
      "source": [
        "**Try Deep NN**"
      ],
      "metadata": {
        "id": "J5i-xorIHRtw"
      }
    },
    {
      "cell_type": "code",
      "source": [
        "tfidf_vect.fit(x_train,y_train)"
      ],
      "metadata": {
        "colab": {
          "base_uri": "https://localhost:8080/"
        },
        "id": "-5cVgPZts6fI",
        "outputId": "8310a1d0-5c2f-4254-fdf3-102bd0b1b72b"
      },
      "execution_count": 19,
      "outputs": [
        {
          "output_type": "execute_result",
          "data": {
            "text/plain": [
              "TfidfVectorizer(max_features=10000, ngram_range=(1, 3))"
            ]
          },
          "metadata": {},
          "execution_count": 19
        }
      ]
    },
    {
      "cell_type": "code",
      "source": [
        "X_train_count=tfidf_vect.transform(x_train).toarray()\n",
        "X_test_count=tfidf_vect.transform(x_test).toarray()"
      ],
      "metadata": {
        "id": "IdoTX-I2j360"
      },
      "execution_count": 20,
      "outputs": []
    },
    {
      "cell_type": "code",
      "source": [
        "model_1=models.Sequential()\n",
        "model_1.add(layers.Dense(128,activation='relu',input_shape=(10000,)))\n",
        "model_1.add(layers.Dense(64,activation='relu'))\n",
        "model_1.add(layers.Dense(32,activation='relu'))\n",
        "model_1.add(layers.Dense(1,activation='sigmoid'))\n",
        "model_1.compile(optimizer= RMSprop(lr=0.0001),\n",
        "              loss= keras.losses.binary_crossentropy,\n",
        "              metrics= [keras.metrics.binary_accuracy])"
      ],
      "metadata": {
        "colab": {
          "base_uri": "https://localhost:8080/"
        },
        "id": "G7tS-ZOyMhhd",
        "outputId": "75acdb16-0107-4652-f4ac-f4c305eca9c3"
      },
      "execution_count": 21,
      "outputs": [
        {
          "output_type": "stream",
          "name": "stderr",
          "text": [
            "/usr/local/lib/python3.8/dist-packages/keras/optimizers/optimizer_v2/rmsprop.py:135: UserWarning: The `lr` argument is deprecated, use `learning_rate` instead.\n",
            "  super(RMSprop, self).__init__(name, **kwargs)\n"
          ]
        }
      ]
    },
    {
      "cell_type": "code",
      "source": [
        "model_1.fit(X_train_count,y_train,epochs=10,validation_data=(X_test_count,y_test))"
      ],
      "metadata": {
        "colab": {
          "base_uri": "https://localhost:8080/"
        },
        "id": "aDvTf9_4cgzz",
        "outputId": "883d3a4d-d110-479c-f4ec-330f8b1c84dc"
      },
      "execution_count": 22,
      "outputs": [
        {
          "output_type": "stream",
          "name": "stdout",
          "text": [
            "Epoch 1/10\n",
            "1563/1563 [==============================] - 15s 8ms/step - loss: 0.4282 - binary_accuracy: 0.8773 - val_loss: 0.0574 - val_binary_accuracy: 0.9836\n",
            "Epoch 2/10\n",
            "1563/1563 [==============================] - 9s 6ms/step - loss: 0.0254 - binary_accuracy: 0.9928 - val_loss: 0.0293 - val_binary_accuracy: 0.9918\n",
            "Epoch 3/10\n",
            "1563/1563 [==============================] - 7s 5ms/step - loss: 0.0155 - binary_accuracy: 0.9956 - val_loss: 0.0341 - val_binary_accuracy: 0.9906\n",
            "Epoch 4/10\n",
            "1563/1563 [==============================] - 8s 5ms/step - loss: 0.0127 - binary_accuracy: 0.9964 - val_loss: 0.0234 - val_binary_accuracy: 0.9940\n",
            "Epoch 5/10\n",
            "1563/1563 [==============================] - 8s 5ms/step - loss: 0.0107 - binary_accuracy: 0.9972 - val_loss: 0.0232 - val_binary_accuracy: 0.9937\n",
            "Epoch 6/10\n",
            "1563/1563 [==============================] - 8s 5ms/step - loss: 0.0091 - binary_accuracy: 0.9978 - val_loss: 0.0222 - val_binary_accuracy: 0.9940\n",
            "Epoch 7/10\n",
            "1563/1563 [==============================] - 8s 5ms/step - loss: 0.0086 - binary_accuracy: 0.9981 - val_loss: 0.0130 - val_binary_accuracy: 0.9969\n",
            "Epoch 8/10\n",
            "1563/1563 [==============================] - 9s 6ms/step - loss: 0.0083 - binary_accuracy: 0.9983 - val_loss: 0.0135 - val_binary_accuracy: 0.9969\n",
            "Epoch 9/10\n",
            "1563/1563 [==============================] - 8s 5ms/step - loss: 0.0083 - binary_accuracy: 0.9985 - val_loss: 0.0106 - val_binary_accuracy: 0.9984\n",
            "Epoch 10/10\n",
            "1563/1563 [==============================] - 8s 5ms/step - loss: 0.0081 - binary_accuracy: 0.9985 - val_loss: 0.0095 - val_binary_accuracy: 0.9985\n"
          ]
        },
        {
          "output_type": "execute_result",
          "data": {
            "text/plain": [
              "<keras.callbacks.History at 0x7f22d6a84ee0>"
            ]
          },
          "metadata": {},
          "execution_count": 22
        }
      ]
    },
    {
      "cell_type": "markdown",
      "source": [
        "**test_model**"
      ],
      "metadata": {
        "id": "rJtvNcKbTiZi"
      }
    },
    {
      "cell_type": "code",
      "source": [
        "test_set=x_test_[10000:20000]\n",
        "x_test_vectorized=tfidf_vect.transform(test_set).toarray()\n",
        "model_1.evaluate(x_test_vectorized,y_test_[10000:20000])"
      ],
      "metadata": {
        "colab": {
          "base_uri": "https://localhost:8080/"
        },
        "id": "7xQ32p-SohNI",
        "outputId": "79e259f1-2e7f-4d3b-9c17-0e39aca6a923"
      },
      "execution_count": 49,
      "outputs": [
        {
          "output_type": "stream",
          "name": "stdout",
          "text": [
            "313/313 [==============================] - 1s 4ms/step - loss: 0.0120 - binary_accuracy: 0.9978\n"
          ]
        },
        {
          "output_type": "execute_result",
          "data": {
            "text/plain": [
              "[0.012042145244777203, 0.9977999925613403]"
            ]
          },
          "metadata": {},
          "execution_count": 49
        }
      ]
    },
    {
      "cell_type": "code",
      "source": [
        "def test_dl_model(text):\n",
        "    point=np.array([text])\n",
        "    x=tfidf_vect.transform(point).toarray()\n",
        "    prob=model_1.predict(x)[0][0]\n",
        "    if prob>0.5:\n",
        "      print(\"model classify it as correct\")\n",
        "    else:\n",
        "      print(\"model classify it as fake\")"
      ],
      "metadata": {
        "id": "lPH5R0RcT7kL"
      },
      "execution_count": 26,
      "outputs": []
    },
    {
      "cell_type": "code",
      "source": [
        "name=x_test_.sample(1,ignore_index=True)[0]\n",
        "print(name)\n",
        "test_dl_model(name)"
      ],
      "metadata": {
        "colab": {
          "base_uri": "https://localhost:8080/"
        },
        "id": "rQQ5rIc_nfL3",
        "outputId": "4f168423-3fbe-4128-db4a-04e3497cba13"
      },
      "execution_count": 41,
      "outputs": [
        {
          "output_type": "stream",
          "name": "stdout",
          "text": [
            "عسدا ولغزل سمعاد\n",
            "1/1 [==============================] - 0s 14ms/step\n",
            "model classify it as fake\n"
          ]
        }
      ]
    },
    {
      "cell_type": "code",
      "source": [
        "model_1.save(\"DL_classifier.h5\")"
      ],
      "metadata": {
        "id": "zz569S__nmfm"
      },
      "execution_count": 83,
      "outputs": []
    }
  ]
}